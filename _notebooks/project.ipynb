{
 "cells": [
  {
   "cell_type": "code",
   "execution_count": null,
   "metadata": {},
   "outputs": [
    {
     "ename": "",
     "evalue": "",
     "output_type": "error",
     "traceback": [
      "\u001b[1;31mCannot execute code, session has been disposed. Please try restarting the Kernel."
     ]
    },
    {
     "ename": "",
     "evalue": "",
     "output_type": "error",
     "traceback": [
      "\u001b[1;31mThe Kernel crashed while executing code in the the current cell or a previous cell. Please review the code in the cell(s) to identify a possible cause of the failure. Click <a href='https://aka.ms/vscodeJupyterKernelCrash'>here</a> for more info. View Jupyter <a href='command:jupyter.viewOutput'>log</a> for further details."
     ]
    }
   ],
   "source": [
    "import tkinter as tk\n",
    "from tkinter import messagebox\n",
    "\n",
    "class PersonalBudgetManager:\n",
    "    def __init__(self, master):\n",
    "        self.master = master\n",
    "        self.master.title(\"Personal Budget Manager\")\n",
    "\n",
    "        # Create main frame\n",
    "        self.main_frame = tk.Frame(self.master)\n",
    "        self.main_frame.pack(padx=20, pady=20)\n",
    "\n",
    "        # Initialize data\n",
    "        self.income = 0\n",
    "        self.expenses = {}\n",
    "        self.budget = {}\n",
    "        self.savings_goals = {}\n",
    "\n",
    "        # Create widgets\n",
    "        self.create_widgets()\n",
    "\n",
    "    def create_widgets(self):\n",
    "        # Income input\n",
    "        tk.Label(self.main_frame, text=\"Monthly Income:\").grid(row=0, column=0)\n",
    "        self.income_entry = tk.Entry(self.main_frame)\n",
    "        self.income_entry.grid(row=0, column=1)\n",
    "\n",
    "        # Expense input\n",
    "        tk.Label(self.main_frame, text=\"Expenses:\").grid(row=1, column=0)\n",
    "        self.expense_name_entry = tk.Entry(self.main_frame)\n",
    "        self.expense_name_entry.grid(row=1, column=1)\n",
    "        self.expense_amount_entry = tk.Entry(self.main_frame)\n",
    "        self.expense_amount_entry.grid(row=1, column=2)\n",
    "        self.add_expense_button = tk.Button(self.main_frame, text=\"Add Expense\", command=self.add_expense)\n",
    "        self.add_expense_button.grid(row=1, column=3)\n",
    "\n",
    "        # Budget planning\n",
    "        tk.Label(self.main_frame, text=\"Budget Planning:\").grid(row=2, column=0)\n",
    "        # Add budget planning widgets here\n",
    "\n",
    "        # Savings goals\n",
    "        tk.Label(self.main_frame, text=\"Savings Goals:\").grid(row=3, column=0)\n",
    "        # Add savings goals widgets here\n",
    "\n",
    "        # Submit button\n",
    "        self.submit_button = tk.Button(self.main_frame, text=\"Submit\", command=self.submit_data)\n",
    "        self.submit_button.grid(row=4, column=0, columnspan=4)\n",
    "\n",
    "    def add_expense(self):\n",
    "        expense_name = self.expense_name_entry.get()\n",
    "        expense_amount = float(self.expense_amount_entry.get())\n",
    "        self.expenses[expense_name] = expense_amount\n",
    "        messagebox.showinfo(\"Expense Added\", f\"{expense_name}: ${expense_amount}\")\n",
    "        self.expense_name_entry.delete(0, tk.END)\n",
    "        self.expense_amount_entry.delete(0, tk.END)\n",
    "\n",
    "    def submit_data(self):\n",
    "        # Get income\n",
    "        self.income = float(self.income_entry.get())\n",
    "        messagebox.showinfo(\"Income\", f\"Monthly Income: ${self.income}\")\n",
    "\n",
    "        # Calculate total expenses\n",
    "        total_expenses = sum(self.expenses.values())\n",
    "        messagebox.showinfo(\"Expenses\", f\"Total Expenses: ${total_expenses}\")\n",
    "\n",
    "        # Calculate remaining budget\n",
    "        remaining_budget = self.income - total_expenses\n",
    "        messagebox.showinfo(\"Remaining Budget\", f\"Remaining Budget: ${remaining_budget}\")\n",
    "\n",
    "        # Submit data to database or file\n",
    "        # Add code to save data to a database or file\n",
    "\n",
    "def main():\n",
    "    root = tk.Tk()\n",
    "    app = PersonalBudgetManager(root)\n",
    "    root.mainloop()\n",
    "\n",
    "if __name__ == \"__main__\":\n",
    "    main()\n"
   ]
  }
 ],
 "metadata": {
  "kernelspec": {
   "display_name": "Python 3",
   "language": "python",
   "name": "python3"
  },
  "language_info": {
   "name": "python",
   "version": "3.11.4"
  },
  "orig_nbformat": 4
 },
 "nbformat": 4,
 "nbformat_minor": 2
}
